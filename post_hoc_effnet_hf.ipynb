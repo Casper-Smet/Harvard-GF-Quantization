{
 "cells": [
  {
   "cell_type": "markdown",
   "metadata": {},
   "source": "# Post Hoc Quantisation of RNLFT Models with HuggingFace"
  },
  {
   "cell_type": "code",
   "metadata": {
    "ExecuteTime": {
     "end_time": "2024-06-25T15:09:43.449687Z",
     "start_time": "2024-06-25T15:09:41.918471Z"
    }
   },
   "source": [
    "import os\n",
    "import argparse\n",
    "import random\n",
    "import time\n",
    "import json\n",
    "\n",
    "import numpy as np\n",
    "import torch\n",
    "import torch.nn as nn\n",
    "from torch.optim.lr_scheduler import *\n",
    "from torch.optim import *\n",
    "import torch.nn.functional as F\n",
    "\n",
    "from sklearn.metrics import *\n",
    "from sklearn.model_selection import KFold\n",
    "\n",
    "import sys\n",
    "sys.path.append('.')\n",
    "\n",
    "from src.modules import *\n",
    "from src.data_handler import *\n",
    "from src import logger\n",
    "from src.class_balanced_loss import *\n",
    "from typing import NamedTuple\n",
    "from torchvision.models import efficientnet as efn\n",
    "\n",
    "from train_glaucoma_fair_fin_hf import train, validation, Identity_Info, quantifiable_efficientnet\n",
    "\n",
    "from fairlearn.metrics import *\n",
    "\n",
    "imb_info = Identity_Info()"
   ],
   "outputs": [],
   "execution_count": 1
  },
  {
   "metadata": {
    "ExecuteTime": {
     "end_time": "2024-06-25T15:09:50.719822Z",
     "start_time": "2024-06-25T15:09:50.717327Z"
    }
   },
   "cell_type": "code",
   "source": [
    "out_dim = 1\n",
    "criterion = nn.BCEWithLogitsLoss()\n",
    "predictor_head = nn.Sigmoid()\n",
    "in_feat_to_final = 1280\n",
    "device = torch.device('cuda' if torch.cuda.is_available() else 'cpu')\n",
    "\n",
    "fin_mu = 0.01\n",
    "fin_sigma = 1.\n",
    "fin_momentum = 0.3\n",
    "modality_types = 'rnflt'\n",
    "task = 'cls'\n",
    "model_type = 'efficientnet'\n",
    "normalise_data = False\n",
    "data_dir = \"../quant_notes/data_cmpr\"\n",
    "image_size = 200\n",
    "attribute_type = 'race'  # CHANGE THIS FOR DIFF MODELS"
   ],
   "outputs": [],
   "execution_count": 2
  },
  {
   "cell_type": "code",
   "metadata": {
    "ExecuteTime": {
     "end_time": "2024-06-25T15:09:52.331461Z",
     "start_time": "2024-06-25T15:09:52.069677Z"
    }
   },
   "source": [
    "trn_dataset = EyeFair(\n",
    "    os.path.join(data_dir, \"train\"),\n",
    "    depth=3 if model_type == \"resnext\" else 1,\n",
    "    modality_type=modality_types,\n",
    "    task=task,\n",
    "    resolution=image_size,\n",
    "    attribute_type=attribute_type,\n",
    "    normalise_data=normalise_data\n",
    ")"
   ],
   "outputs": [
    {
     "name": "stdout",
     "output_type": "stream",
     "text": [
      "min: -31.9900, max: 2.2700\n"
     ]
    }
   ],
   "execution_count": 3
  },
  {
   "cell_type": "code",
   "metadata": {
    "ExecuteTime": {
     "end_time": "2024-06-25T15:09:53.511176Z",
     "start_time": "2024-06-25T15:09:53.508790Z"
    }
   },
   "source": [
    "batch_size = 6\n",
    "validation_dataset_loader = torch.utils.data.DataLoader(trn_dataset, batch_size=batch_size, shuffle=False, pin_memory=True, drop_last=False)"
   ],
   "outputs": [],
   "execution_count": 4
  },
  {
   "metadata": {
    "ExecuteTime": {
     "end_time": "2024-06-25T15:09:55.095208Z",
     "start_time": "2024-06-25T15:09:55.092804Z"
    }
   },
   "cell_type": "code",
   "source": [
    "def test(model, criterion, optimizer, data_loader, epoch, identity_Info=None, _device='cuda'):\n",
    "    res = validation(model, criterion, None, validation_dataset_loader, 10, identity_Info=imb_info, _device=_device)\n",
    "    return res[1]"
   ],
   "outputs": [],
   "execution_count": 5
  },
  {
   "cell_type": "code",
   "metadata": {
    "ExecuteTime": {
     "end_time": "2024-06-25T15:09:56.483254Z",
     "start_time": "2024-06-25T15:09:56.481166Z"
    }
   },
   "source": [
    "def print_size_of_model(model):\n",
    "    torch.save(model.state_dict(), \"temp.p\")\n",
    "    print('Size (MB):', os.path.getsize(\"temp.p\")/1e6)\n",
    "    os.remove('temp.p')"
   ],
   "outputs": [],
   "execution_count": 6
  },
  {
   "metadata": {},
   "cell_type": "markdown",
   "source": "##########################"
  },
  {
   "metadata": {
    "ExecuteTime": {
     "end_time": "2024-06-25T15:09:57.886514Z",
     "start_time": "2024-06-25T15:09:57.502132Z"
    }
   },
   "cell_type": "code",
   "source": "!pip freeze | grep accelerate",
   "outputs": [
    {
     "name": "stdout",
     "output_type": "stream",
     "text": [
      "accelerate==0.31.0\r\n"
     ]
    }
   ],
   "execution_count": 7
  },
  {
   "metadata": {
    "ExecuteTime": {
     "end_time": "2024-06-25T15:25:44.716771Z",
     "start_time": "2024-06-25T15:25:44.710904Z"
    }
   },
   "cell_type": "code",
   "source": [
    "import torch\n",
    "import transformers\n",
    "from transformers import AutoImageProcessor, AutoModelForImageClassification, QuantoConfig\n",
    "# from optimum.quanto import qint8, quantize\n",
    "\n",
    "model_paths_race = [\n",
    "\"/home/platelminto/Documents/uu/dev/hcml/groupassingment/Harvard-GF-Quantization/results/crosssectional_rnflt_fin_race_ablation_of_sigma/fullysup_efficientnet_rnflt_Taskcls_lr5e-5_bz6_normdata0_6838_auc0.8511\",\n",
    "\"/home/platelminto/Documents/uu/dev/hcml/groupassingment/Harvard-GF-Quantization/results/crosssectional_rnflt_fin_race_ablation_of_sigma/fullysup_efficientnet_rnflt_Taskcls_lr5e-5_bz6_normdata0_8030_auc0.8426\",\n",
    "\"/home/platelminto/Documents/uu/dev/hcml/groupassingment/Harvard-GF-Quantization/results/crosssectional_rnflt_fin_race_ablation_of_sigma/fullysup_efficientnet_rnflt_Taskcls_lr5e-5_bz6_normdata0_6057_auc0.8351\",\n",
    "\"/home/platelminto/Documents/uu/dev/hcml/groupassingment/Harvard-GF-Quantization/results/crosssectional_rnflt_fin_race_ablation_of_sigma/fullysup_efficientnet_rnflt_Taskcls_lr5e-5_bz6_normdata0_99_auc0.8382\",\n",
    "\"/home/platelminto/Documents/uu/dev/hcml/groupassingment/Harvard-GF-Quantization/results/crosssectional_rnflt_fin_race_ablation_of_sigma/fullysup_efficientnet_rnflt_Taskcls_lr5e-5_bz6_normdata0_5677_auc0.8419\"\n",
    "]\n",
    "\n",
    "model_paths_gender = [\n",
    "\"/home/platelminto/Documents/uu/dev/hcml/groupassingment/Harvard-GF-Quantization/results/crosssectional_rnflt_fin_gender_ablation_of_sigma/fullysup_efficientnet_rnflt_Taskcls_lr5e-5_bz6_normdata0_1023_auc0.8284\",\n",
    "\"/home/platelminto/Documents/uu/dev/hcml/groupassingment/Harvard-GF-Quantization/results/crosssectional_rnflt_fin_gender_ablation_of_sigma/fullysup_efficientnet_rnflt_Taskcls_lr5e-5_bz6_normdata0_2358_auc0.8323\",\n",
    "\"/home/platelminto/Documents/uu/dev/hcml/groupassingment/Harvard-GF-Quantization/results/crosssectional_rnflt_fin_gender_ablation_of_sigma/fullysup_efficientnet_rnflt_Taskcls_lr5e-5_bz6_normdata0_3086_auc0.8368\",\n",
    "\"/home/platelminto/Documents/uu/dev/hcml/groupassingment/Harvard-GF-Quantization/results/crosssectional_rnflt_fin_gender_ablation_of_sigma/fullysup_efficientnet_rnflt_Taskcls_lr5e-5_bz6_normdata0_3290_auc0.8479\",\n",
    "\"/home/platelminto/Documents/uu/dev/hcml/groupassingment/Harvard-GF-Quantization/results/crosssectional_rnflt_fin_gender_ablation_of_sigma/fullysup_efficientnet_rnflt_Taskcls_lr5e-5_bz6_normdata0_6044_auc0.8258\"\n",
    "]\n",
    "\n",
    "if attribute_type == \"race\":\n",
    "    model_paths = model_paths_race\n",
    "elif attribute_type == \"gender\":\n",
    "    model_paths = model_paths_gender\n",
    "else:\n",
    "    raise ValueError(\"Invalid attribute type\")\n",
    "\n",
    "actual_model_paths = []\n",
    "\n",
    "for model_path in model_paths:\n",
    "    actual_model_paths.append(model_path + \"/best_model\")\n",
    "    # actual_model_paths.append(model_path + \"/model_epoch_9\")\n",
    "\n",
    "model_paths = actual_model_paths\n",
    "model_paths.reverse()"
   ],
   "outputs": [],
   "execution_count": 31
  },
  {
   "metadata": {
    "ExecuteTime": {
     "end_time": "2024-06-25T15:25:49.133904Z",
     "start_time": "2024-06-25T15:25:45.410512Z"
    }
   },
   "cell_type": "code",
   "source": [
    "from transformers import AutoModel, AutoConfig\n",
    "from src.modules import EfficientNetWrapper\n",
    "from safetensors.torch import load_file\n",
    "\n",
    "models = []\n",
    "\n",
    "for model_path in model_paths:\n",
    "    config = AutoConfig.from_pretrained(model_path, device='cuda')\n",
    "    \n",
    "    model = EfficientNetWrapper(config)\n",
    "    \n",
    "    state_dict = load_file(model_path + \"/model.safetensors\")\n",
    "    model.load_state_dict(state_dict)\n",
    "    \n",
    "    model.eval()\n",
    "    model.to('cuda')\n",
    "    \n",
    "    models.append(model)"
   ],
   "outputs": [],
   "execution_count": 32
  },
  {
   "metadata": {
    "ExecuteTime": {
     "end_time": "2024-06-25T15:25:49.876807Z",
     "start_time": "2024-06-25T15:25:49.873218Z"
    }
   },
   "cell_type": "code",
   "source": "model.dtype",
   "outputs": [
    {
     "data": {
      "text/plain": [
       "torch.float32"
      ]
     },
     "execution_count": 33,
     "metadata": {},
     "output_type": "execute_result"
    }
   ],
   "execution_count": 33
  },
  {
   "metadata": {
    "ExecuteTime": {
     "end_time": "2024-06-25T15:25:52.786038Z",
     "start_time": "2024-06-25T15:25:51.334895Z"
    }
   },
   "cell_type": "code",
   "source": [
    "for model in models[-1:]:\n",
    "    test(model, criterion, None, validation_dataset_loader, 10, identity_Info=imb_info, _device=device)"
   ],
   "outputs": [
    {
     "name": "stdout",
     "output_type": "stream",
     "text": [
      "cuda:0\n",
      "test <==== epcoh 10 loss: 0.5278 auc: 0.8512\n",
      "0-attr auc: 0.8754\n",
      "1-attr auc: 0.8065\n",
      "2-attr auc: 0.8512\n"
     ]
    }
   ],
   "execution_count": 34
  },
  {
   "metadata": {
    "ExecuteTime": {
     "end_time": "2024-06-25T15:25:54.096716Z",
     "start_time": "2024-06-25T15:25:54.094162Z"
    }
   },
   "cell_type": "code",
   "source": "from optimum.quanto import quantize, qint8, qint4, qint2, QTensor",
   "outputs": [],
   "execution_count": 35
  },
  {
   "metadata": {
    "ExecuteTime": {
     "end_time": "2024-06-25T15:25:57.482280Z",
     "start_time": "2024-06-25T15:25:57.406459Z"
    }
   },
   "cell_type": "code",
   "source": [
    "for model in models:\n",
    "    quantize(model, weights=qint2)"
   ],
   "outputs": [],
   "execution_count": 36
  },
  {
   "metadata": {
    "ExecuteTime": {
     "end_time": "2024-06-25T15:26:02.011034Z",
     "start_time": "2024-06-25T15:26:00.723598Z"
    }
   },
   "cell_type": "code",
   "source": "test(models[-1], criterion, None, validation_dataset_loader, 10, identity_Info=imb_info, _device=device)",
   "outputs": [
    {
     "name": "stdout",
     "output_type": "stream",
     "text": [
      "cuda:0\n",
      "test <==== epcoh 10 loss: 26633.8418 auc: 0.5398\n",
      "0-attr auc: 0.5275\n",
      "1-attr auc: 0.5426\n",
      "2-attr auc: 0.5041\n"
     ]
    },
    {
     "data": {
      "text/plain": [
       "0.5455555555555556"
      ]
     },
     "execution_count": 37,
     "metadata": {},
     "output_type": "execute_result"
    }
   ],
   "execution_count": 37
  },
  {
   "metadata": {
    "ExecuteTime": {
     "end_time": "2024-06-25T15:20:30.215623Z",
     "start_time": "2024-06-25T15:20:30.210739Z"
    }
   },
   "cell_type": "code",
   "source": "from optimum.quanto import freeze",
   "outputs": [],
   "execution_count": 20
  },
  {
   "metadata": {
    "ExecuteTime": {
     "end_time": "2024-06-25T14:47:15.299015Z",
     "start_time": "2024-06-25T14:47:15.068191Z"
    }
   },
   "cell_type": "code",
   "source": [
    "for model in models:\n",
    "    freeze(model)"
   ],
   "outputs": [],
   "execution_count": 17
  },
  {
   "metadata": {
    "ExecuteTime": {
     "end_time": "2024-06-25T15:03:36.537368Z",
     "start_time": "2024-06-25T15:03:36.495005Z"
    }
   },
   "cell_type": "code",
   "source": "print_size_of_model(model)",
   "outputs": [
    {
     "name": "stdout",
     "output_type": "stream",
     "text": [
      "Size (MB): 26.609645\n"
     ]
    }
   ],
   "execution_count": 55
  },
  {
   "metadata": {
    "ExecuteTime": {
     "end_time": "2024-06-25T15:03:39.728879Z",
     "start_time": "2024-06-25T15:03:39.726728Z"
    }
   },
   "cell_type": "code",
   "source": "model = models[-1]",
   "outputs": [],
   "execution_count": 56
  },
  {
   "metadata": {
    "ExecuteTime": {
     "end_time": "2024-06-25T15:33:12.472949Z",
     "start_time": "2024-06-25T15:26:09.154480Z"
    }
   },
   "cell_type": "code",
   "source": [
    "# QAT, don't freeze above if u want to do this.\n",
    "for model in models:\n",
    "    model.train()\n",
    "    scaler = None #torch.cuda.amp.GradScaler()\n",
    "    \n",
    "    optimizer = AdamW(model.parameters(), lr=5e-5, betas=(0.0, 0.1), weight_decay=6e-5)\n",
    "    \n",
    "    scheduler = StepLR(optimizer, step_size=30, gamma=0.1)\n",
    "    \n",
    "    trn_dataset = EyeFair(os.path.join(\"../quant_notes/data_cmpr/\", 'train'), normalise_data=False, modality_type=\"rnflt\", task=\"cls\", resolution=200, attribute_type=\"gender\", depth=1)\n",
    "    for epoch in range(4):\n",
    "        loss_batch = []\n",
    "        top1_accuracy_batch = []\n",
    "        preds = []\n",
    "        gts = []\n",
    "        attrs = []\n",
    "    \n",
    "        train_dataset_loader = torch.utils.data.DataLoader(\n",
    "            trn_dataset, batch_size=6, shuffle=True,\n",
    "            num_workers=8, pin_memory=True, drop_last=True)\n",
    "    \n",
    "        for batch_idx, (input, target, attr) in enumerate(train_dataset_loader):\n",
    "            input = input.to(device)\n",
    "            target = target.to(device)\n",
    "            attr = attr.to(device)\n",
    "            \n",
    "            optimizer.zero_grad()\n",
    "        \n",
    "            pred = model(input, attr)\n",
    "            \n",
    "            if isinstance(pred, QTensor):\n",
    "                pred = pred.dequantize()\n",
    "            \n",
    "            pred = pred.squeeze(1)\n",
    "        \n",
    "            loss = criterion(pred, target)\n",
    "            \n",
    "            pred_prob = torch.sigmoid(pred.detach())\n",
    "            preds.append(pred_prob.detach().cpu().numpy())\n",
    "            gts.append(target.detach().cpu().numpy())\n",
    "            attrs.append(attr.detach().cpu().numpy())\n",
    "        \n",
    "            loss_batch.append(loss.item())\n",
    "            \n",
    "            top1_accuracy = accuracy(pred.detach().cpu().numpy(), target.detach().cpu().numpy(), topk=(1,))\n",
    "            top1_accuracy_batch.append(top1_accuracy)\n",
    "        \n",
    "            loss.backward()\n",
    "            optimizer.step()\n",
    "        \n",
    "        preds = np.concatenate(preds, axis=0)\n",
    "        gts = np.concatenate(gts, axis=0)\n",
    "        attrs = np.concatenate(attrs, axis=0).astype(int)\n",
    "        cur_auc = auc_score(preds, gts)\n",
    "        acc = accuracy(preds, gts, topk=(1,))\n",
    "        \n",
    "        print(f\"train ====> epoch {epoch} loss: {np.mean(loss_batch):.4f} auc: {cur_auc:.4f}\")\n",
    "    model.eval()"
   ],
   "outputs": [
    {
     "name": "stdout",
     "output_type": "stream",
     "text": [
      "min: -31.9900, max: 2.2700\n",
      "train ====> epoch 0 loss: 0.5854 auc: 0.7621\n",
      "train ====> epoch 1 loss: 0.5502 auc: 0.8018\n",
      "train ====> epoch 2 loss: 0.5253 auc: 0.8180\n",
      "train ====> epoch 3 loss: 0.4962 auc: 0.8439\n",
      "min: -31.9900, max: 2.2700\n",
      "train ====> epoch 0 loss: 0.5904 auc: 0.7568\n",
      "train ====> epoch 1 loss: 0.5658 auc: 0.7798\n",
      "train ====> epoch 2 loss: 0.5304 auc: 0.8113\n",
      "train ====> epoch 3 loss: 0.5018 auc: 0.8353\n",
      "min: -31.9900, max: 2.2700\n",
      "train ====> epoch 0 loss: 0.6035 auc: 0.7441\n",
      "train ====> epoch 1 loss: 0.5424 auc: 0.7970\n",
      "train ====> epoch 2 loss: 0.5315 auc: 0.8097\n",
      "train ====> epoch 3 loss: 0.5118 auc: 0.8244\n",
      "min: -31.9900, max: 2.2700\n",
      "train ====> epoch 0 loss: 0.5870 auc: 0.7514\n",
      "train ====> epoch 1 loss: 0.5364 auc: 0.8030\n",
      "train ====> epoch 2 loss: 0.5186 auc: 0.8201\n",
      "train ====> epoch 3 loss: 0.5038 auc: 0.8324\n",
      "min: -31.9900, max: 2.2700\n",
      "train ====> epoch 0 loss: 0.5981 auc: 0.7555\n",
      "train ====> epoch 1 loss: 0.5430 auc: 0.8028\n",
      "train ====> epoch 2 loss: 0.5155 auc: 0.8238\n",
      "train ====> epoch 3 loss: 0.4992 auc: 0.8398\n"
     ]
    }
   ],
   "execution_count": 38
  },
  {
   "metadata": {
    "ExecuteTime": {
     "end_time": "2024-06-25T15:33:16.978730Z",
     "start_time": "2024-06-25T15:33:15.595452Z"
    }
   },
   "cell_type": "code",
   "source": "test(model, criterion, None, validation_dataset_loader, 10, identity_Info=imb_info, _device=device)",
   "outputs": [
    {
     "name": "stdout",
     "output_type": "stream",
     "text": [
      "cuda:0\n",
      "test <==== epcoh 10 loss: 0.5704 auc: 0.8295\n",
      "0-attr auc: 0.8460\n",
      "1-attr auc: 0.7834\n",
      "2-attr auc: 0.8600\n"
     ]
    },
    {
     "data": {
      "text/plain": [
       "0.7211111111111111"
      ]
     },
     "execution_count": 39,
     "metadata": {},
     "output_type": "execute_result"
    }
   ],
   "execution_count": 39
  },
  {
   "metadata": {
    "ExecuteTime": {
     "end_time": "2024-06-25T15:33:24.575448Z",
     "start_time": "2024-06-25T15:33:24.534696Z"
    }
   },
   "cell_type": "code",
   "source": "print_size_of_model(model)",
   "outputs": [
    {
     "name": "stdout",
     "output_type": "stream",
     "text": [
      "Size (MB): 26.609645\n"
     ]
    }
   ],
   "execution_count": 40
  },
  {
   "metadata": {
    "ExecuteTime": {
     "end_time": "2024-06-25T15:33:25.462087Z",
     "start_time": "2024-06-25T15:33:25.427781Z"
    }
   },
   "cell_type": "code",
   "source": "freeze(model)",
   "outputs": [],
   "execution_count": 41
  },
  {
   "metadata": {
    "ExecuteTime": {
     "end_time": "2024-06-25T15:33:28.713295Z",
     "start_time": "2024-06-25T15:33:28.673465Z"
    }
   },
   "cell_type": "code",
   "source": "print_size_of_model(model)",
   "outputs": [
    {
     "name": "stdout",
     "output_type": "stream",
     "text": [
      "Size (MB): 3.057125\n"
     ]
    }
   ],
   "execution_count": 42
  },
  {
   "metadata": {
    "ExecuteTime": {
     "end_time": "2024-06-25T15:33:33.770230Z",
     "start_time": "2024-06-25T15:33:33.762706Z"
    }
   },
   "cell_type": "code",
   "source": [
    "import torch\n",
    "import os\n",
    "import numpy as np\n",
    "from src.modules import forward_model_with_fin\n",
    "from src.data_handler import EyeFair\n",
    "\n",
    "device = torch.device('cuda:0' if torch.cuda.is_available() else 'cpu')\n",
    "\n",
    "def final_metrics(model, validation_dataset_loader, attribute_type, number_of_classes):\n",
    "    # model.eval()\n",
    "    \n",
    "    preds = []\n",
    "    gts = []\n",
    "    attrs = []\n",
    "\n",
    "    with torch.no_grad():\n",
    "        for i, (input, target, attr) in enumerate(validation_dataset_loader):\n",
    "            input = input.to(device)\n",
    "            target = target.to(device)\n",
    "            attr = attr.to(device)\n",
    "            \n",
    "            pred = forward_model_with_fin(model, input, attr)\n",
    "            pred = pred.squeeze(1)\n",
    "\n",
    "            pred_prob = torch.sigmoid(pred.detach())\n",
    "            preds.append(pred_prob.detach().cpu().numpy())\n",
    "            gts.append(target.detach().cpu().numpy())\n",
    "            attrs.append(attr.detach().cpu().numpy())\n",
    "\n",
    "    preds = np.concatenate(preds, axis=0)\n",
    "    gts = np.concatenate(gts, axis=0)\n",
    "    attrs = np.concatenate(attrs, axis=0).astype(int)\n",
    "    \n",
    "    acc = accuracy(preds, gts, topk=(1,))\n",
    "    auc = auc_score(preds, gts)\n",
    "    es_acc = equity_scaled_accuracy(preds, gts, attrs)\n",
    "    es_auc = equity_scaled_AUC(preds, gts, attrs)\n",
    "\n",
    "    pred_labels = (preds >= 0.5).astype(float)\n",
    "    dpd = demographic_parity_difference(gts, pred_labels, sensitive_features=attrs)\n",
    "    eod = equalized_odds_difference(gts, pred_labels, sensitive_features=attrs)\n",
    "\n",
    "    auc_groups = []\n",
    "    for attr_value in range(number_of_classes):\n",
    "        mask = attrs == attr_value\n",
    "        auc_groups.append(auc_score(preds[mask], gts[mask]))\n",
    "\n",
    "    if attribute_type == \"race\":\n",
    "        return es_acc, acc, es_auc, auc, auc_groups[0], auc_groups[1], auc_groups[2], dpd, eod\n",
    "    elif attribute_type == \"gender\":\n",
    "        return es_acc, acc, es_auc, auc, auc_groups[0], auc_groups[1], dpd, eod\n",
    "\n",
    "\n",
    "in_dim = 1\n",
    "out_dim = 1\n",
    "extra_info = {\n",
    "    'in_feat_to_final': 1280,\n",
    "    'normalization_type': 'fin',\n",
    "    'ag_norm_params': {\"num_attr\": 3, \"dim\": 1280, \"mu\": 0.01, \"sigma\": 1., \"momentum\": 0.3}\n",
    "}"
   ],
   "outputs": [],
   "execution_count": 43
  },
  {
   "metadata": {
    "ExecuteTime": {
     "end_time": "2024-06-25T15:33:34.501892Z",
     "start_time": "2024-06-25T15:33:34.383705Z"
    }
   },
   "cell_type": "code",
   "source": [
    "# Prepare the validation dataset and loader\n",
    "validation_dataset = EyeFair('../quant_notes/data_cmpr/test', normalise_data=False, modality_type='rnflt', task='cls', resolution=200, attribute_type=attribute_type)\n",
    "validation_dataset_loader = torch.utils.data.DataLoader(validation_dataset, batch_size=256, shuffle=False, num_workers=8, pin_memory=True)"
   ],
   "outputs": [
    {
     "name": "stdout",
     "output_type": "stream",
     "text": [
      "min: -31.1600, max: 2.5300\n"
     ]
    }
   ],
   "execution_count": 44
  },
  {
   "metadata": {
    "ExecuteTime": {
     "end_time": "2024-06-25T15:33:46.342951Z",
     "start_time": "2024-06-25T15:33:39.236249Z"
    }
   },
   "cell_type": "code",
   "source": [
    "for model in models:\n",
    "    # Perform validation and get metrics\n",
    "    metrics = final_metrics(model, validation_dataset_loader, attribute_type, number_of_classes=3 if attribute_type == \"race\" else 2)\n",
    "    \n",
    "    # Print the metrics\n",
    "    print(\"\\t\".join(f\"{metric:.4f}\" for metric in metrics))"
   ],
   "outputs": [
    {
     "name": "stdout",
     "output_type": "stream",
     "text": [
      "0.6952\t0.7478\t0.7516\t0.8236\t0.8652\t0.7722\t0.8207\t0.2133\t0.2639\n",
      "0.6741\t0.7100\t0.7362\t0.8065\t0.8380\t0.7530\t0.8169\t0.1867\t0.2646\n",
      "0.5891\t0.6389\t0.7557\t0.7949\t0.8227\t0.7764\t0.7892\t0.0900\t0.1245\n",
      "0.6657\t0.7367\t0.7392\t0.8193\t0.8343\t0.7639\t0.8573\t0.1267\t0.1172\n",
      "0.6964\t0.7211\t0.7588\t0.8295\t0.8460\t0.7834\t0.8600\t0.1567\t0.1868\n"
     ]
    }
   ],
   "execution_count": 45
  },
  {
   "metadata": {
    "ExecuteTime": {
     "end_time": "2024-06-25T01:31:40.773197Z",
     "start_time": "2024-06-25T01:31:40.769529Z"
    }
   },
   "cell_type": "code",
   "source": [
    "for model_name in model_paths:\n",
    "    print(model_name)"
   ],
   "outputs": [
    {
     "name": "stdout",
     "output_type": "stream",
     "text": [
      "/home/platelminto/Documents/uu/dev/hcml/groupassingment/Harvard-GF-Quantization/results/crosssectional_rnflt_fin_gender_ablation_of_sigma/fullysup_efficientnet_rnflt_Taskcls_lr5e-5_bz6_normdata0_6044_auc0.8258/model_epoch_9\n",
      "/home/platelminto/Documents/uu/dev/hcml/groupassingment/Harvard-GF-Quantization/results/crosssectional_rnflt_fin_gender_ablation_of_sigma/fullysup_efficientnet_rnflt_Taskcls_lr5e-5_bz6_normdata0_6044_auc0.8258/best_model\n",
      "/home/platelminto/Documents/uu/dev/hcml/groupassingment/Harvard-GF-Quantization/results/crosssectional_rnflt_fin_gender_ablation_of_sigma/fullysup_efficientnet_rnflt_Taskcls_lr5e-5_bz6_normdata0_3290_auc0.8479/model_epoch_9\n",
      "/home/platelminto/Documents/uu/dev/hcml/groupassingment/Harvard-GF-Quantization/results/crosssectional_rnflt_fin_gender_ablation_of_sigma/fullysup_efficientnet_rnflt_Taskcls_lr5e-5_bz6_normdata0_3290_auc0.8479/best_model\n",
      "/home/platelminto/Documents/uu/dev/hcml/groupassingment/Harvard-GF-Quantization/results/crosssectional_rnflt_fin_gender_ablation_of_sigma/fullysup_efficientnet_rnflt_Taskcls_lr5e-5_bz6_normdata0_3086_auc0.8368/model_epoch_9\n",
      "/home/platelminto/Documents/uu/dev/hcml/groupassingment/Harvard-GF-Quantization/results/crosssectional_rnflt_fin_gender_ablation_of_sigma/fullysup_efficientnet_rnflt_Taskcls_lr5e-5_bz6_normdata0_3086_auc0.8368/best_model\n",
      "/home/platelminto/Documents/uu/dev/hcml/groupassingment/Harvard-GF-Quantization/results/crosssectional_rnflt_fin_gender_ablation_of_sigma/fullysup_efficientnet_rnflt_Taskcls_lr5e-5_bz6_normdata0_2358_auc0.8323/model_epoch_9\n",
      "/home/platelminto/Documents/uu/dev/hcml/groupassingment/Harvard-GF-Quantization/results/crosssectional_rnflt_fin_gender_ablation_of_sigma/fullysup_efficientnet_rnflt_Taskcls_lr5e-5_bz6_normdata0_2358_auc0.8323/best_model\n",
      "/home/platelminto/Documents/uu/dev/hcml/groupassingment/Harvard-GF-Quantization/results/crosssectional_rnflt_fin_gender_ablation_of_sigma/fullysup_efficientnet_rnflt_Taskcls_lr5e-5_bz6_normdata0_1023_auc0.8284/model_epoch_9\n",
      "/home/platelminto/Documents/uu/dev/hcml/groupassingment/Harvard-GF-Quantization/results/crosssectional_rnflt_fin_gender_ablation_of_sigma/fullysup_efficientnet_rnflt_Taskcls_lr5e-5_bz6_normdata0_1023_auc0.8284/best_model\n"
     ]
    }
   ],
   "execution_count": 109
  },
  {
   "metadata": {
    "ExecuteTime": {
     "end_time": "2024-06-23T22:34:10.783043Z",
     "start_time": "2024-06-23T22:34:10.780853Z"
    }
   },
   "cell_type": "code",
   "source": [
    "print(torch.cuda.is_available())\n",
    "print(torch.cuda.get_device_name(0))\n",
    "print(\"Torch version:\", torch.__version__)\n",
    "print(\"Transformers version:\", transformers.__version__)\n"
   ],
   "outputs": [
    {
     "name": "stdout",
     "output_type": "stream",
     "text": [
      "True\n",
      "NVIDIA GeForce RTX 4060 Ti\n",
      "Torch version: 2.3.1\n",
      "Transformers version: 4.42.0.dev0\n"
     ]
    }
   ],
   "execution_count": 3
  },
  {
   "metadata": {
    "ExecuteTime": {
     "end_time": "2024-06-23T22:28:27.951507Z",
     "start_time": "2024-06-23T22:28:26.956095Z"
    }
   },
   "cell_type": "code",
   "source": "!pip show bitsandbytes",
   "outputs": [
    {
     "name": "stdout",
     "output_type": "stream",
     "text": [
      "Name: bitsandbytes\r\n",
      "Version: 0.43.1\r\n",
      "Summary: k-bit optimizers and matrix multiplication routines.\r\n",
      "Home-page: https://github.com/TimDettmers/bitsandbytes\r\n",
      "Author: Tim Dettmers\r\n",
      "Author-email: dettmers@cs.washington.edu\r\n",
      "License: MIT\r\n",
      "Location: /home/platelminto/miniconda3/envs/harvard_gf/lib/python3.10/site-packages\r\n",
      "Requires: numpy, torch\r\n",
      "Required-by: \r\n"
     ]
    }
   ],
   "execution_count": 16
  }
 ],
 "metadata": {
  "kernelspec": {
   "display_name": "harvard_gf",
   "language": "python",
   "name": "python3"
  },
  "language_info": {
   "codemirror_mode": {
    "name": "ipython",
    "version": 3
   },
   "file_extension": ".py",
   "mimetype": "text/x-python",
   "name": "python",
   "nbconvert_exporter": "python",
   "pygments_lexer": "ipython3",
   "version": "3.1.undefined"
  }
 },
 "nbformat": 4,
 "nbformat_minor": 2
}
