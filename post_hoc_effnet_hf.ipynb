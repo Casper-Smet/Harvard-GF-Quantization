{
 "cells": [
  {
   "cell_type": "markdown",
   "metadata": {},
   "source": "# Post Hoc Quantisation of RNLFT Models with HuggingFace"
  },
  {
   "cell_type": "code",
   "metadata": {
    "ExecuteTime": {
     "end_time": "2024-06-25T15:09:43.449687Z",
     "start_time": "2024-06-25T15:09:41.918471Z"
    }
   },
   "source": [
    "import os\n",
    "import argparse\n",
    "import random\n",
    "import time\n",
    "import json\n",
    "\n",
    "import numpy as np\n",
    "import torch\n",
    "import torch.nn as nn\n",
    "from torch.optim.lr_scheduler import *\n",
    "from torch.optim import *\n",
    "import torch.nn.functional as F\n",
    "\n",
    "from sklearn.metrics import *\n",
    "from sklearn.model_selection import KFold\n",
    "\n",
    "import sys\n",
    "sys.path.append('.')\n",
    "\n",
    "from src.modules import *\n",
    "from src.data_handler import *\n",
    "from src import logger\n",
    "from src.class_balanced_loss import *\n",
    "from typing import NamedTuple\n",
    "from torchvision.models import efficientnet as efn\n",
    "\n",
    "from train_glaucoma_fair_fin_hf import train, validation, Identity_Info, quantifiable_efficientnet\n",
    "\n",
    "from fairlearn.metrics import *\n",
    "\n",
    "imb_info = Identity_Info()"
   ],
   "outputs": [],
   "execution_count": 1
  },
  {
   "metadata": {
    "ExecuteTime": {
     "end_time": "2024-06-25T15:35:18.811837Z",
     "start_time": "2024-06-25T15:35:18.809189Z"
    }
   },
   "cell_type": "code",
   "source": [
    "out_dim = 1\n",
    "criterion = nn.BCEWithLogitsLoss()\n",
    "predictor_head = nn.Sigmoid()\n",
    "in_feat_to_final = 1280\n",
    "device = torch.device('cuda' if torch.cuda.is_available() else 'cpu')\n",
    "\n",
    "fin_mu = 0.01\n",
    "fin_sigma = 1.\n",
    "fin_momentum = 0.3\n",
    "modality_types = 'rnflt'\n",
    "task = 'cls'\n",
    "model_type = 'efficientnet'\n",
    "normalise_data = False\n",
    "data_dir = \"../quant_notes/data_cmpr\"\n",
    "image_size = 200\n",
    "attribute_type = 'gender'  # CHANGE THIS FOR DIFF MODELS"
   ],
   "outputs": [],
   "execution_count": 46
  },
  {
   "cell_type": "code",
   "metadata": {
    "ExecuteTime": {
     "end_time": "2024-06-25T15:35:20.441310Z",
     "start_time": "2024-06-25T15:35:20.168356Z"
    }
   },
   "source": [
    "trn_dataset = EyeFair(\n",
    "    os.path.join(data_dir, \"train\"),\n",
    "    depth=3 if model_type == \"resnext\" else 1,\n",
    "    modality_type=modality_types,\n",
    "    task=task,\n",
    "    resolution=image_size,\n",
    "    attribute_type=attribute_type,\n",
    "    normalise_data=normalise_data\n",
    ")"
   ],
   "outputs": [
    {
     "name": "stdout",
     "output_type": "stream",
     "text": [
      "min: -31.9900, max: 2.2700\n"
     ]
    }
   ],
   "execution_count": 47
  },
  {
   "cell_type": "code",
   "metadata": {
    "ExecuteTime": {
     "end_time": "2024-06-25T15:35:21.226475Z",
     "start_time": "2024-06-25T15:35:21.223893Z"
    }
   },
   "source": [
    "batch_size = 6\n",
    "validation_dataset_loader = torch.utils.data.DataLoader(trn_dataset, batch_size=batch_size, shuffle=False, pin_memory=True, drop_last=False)"
   ],
   "outputs": [],
   "execution_count": 48
  },
  {
   "metadata": {
    "ExecuteTime": {
     "end_time": "2024-06-25T15:35:21.650925Z",
     "start_time": "2024-06-25T15:35:21.648632Z"
    }
   },
   "cell_type": "code",
   "source": [
    "def test(model, criterion, optimizer, data_loader, epoch, identity_Info=None, _device='cuda'):\n",
    "    res = validation(model, criterion, None, validation_dataset_loader, 10, identity_Info=imb_info, _device=_device)\n",
    "    return res[1]"
   ],
   "outputs": [],
   "execution_count": 49
  },
  {
   "cell_type": "code",
   "metadata": {
    "ExecuteTime": {
     "end_time": "2024-06-25T15:35:22.161931Z",
     "start_time": "2024-06-25T15:35:22.159512Z"
    }
   },
   "source": [
    "def print_size_of_model(model):\n",
    "    torch.save(model.state_dict(), \"temp.p\")\n",
    "    print('Size (MB):', os.path.getsize(\"temp.p\")/1e6)\n",
    "    os.remove('temp.p')"
   ],
   "outputs": [],
   "execution_count": 50
  },
  {
   "metadata": {},
   "cell_type": "markdown",
   "source": "##########################"
  },
  {
   "metadata": {
    "ExecuteTime": {
     "end_time": "2024-06-25T15:35:23.595706Z",
     "start_time": "2024-06-25T15:35:23.223810Z"
    }
   },
   "cell_type": "code",
   "source": "!pip freeze | grep accelerate",
   "outputs": [
    {
     "name": "stdout",
     "output_type": "stream",
     "text": [
      "accelerate==0.31.0\r\n"
     ]
    }
   ],
   "execution_count": 51
  },
  {
   "metadata": {
    "ExecuteTime": {
     "end_time": "2024-06-25T15:46:58.513316Z",
     "start_time": "2024-06-25T15:46:58.506743Z"
    }
   },
   "cell_type": "code",
   "source": [
    "import torch\n",
    "import transformers\n",
    "from transformers import AutoImageProcessor, AutoModelForImageClassification, QuantoConfig\n",
    "# from optimum.quanto import qint8, quantize\n",
    "\n",
    "model_paths_race = [\n",
    "\"/home/platelminto/Documents/uu/dev/hcml/groupassingment/Harvard-GF-Quantization/results/crosssectional_rnflt_fin_race_ablation_of_sigma/fullysup_efficientnet_rnflt_Taskcls_lr5e-5_bz6_normdata0_6838_auc0.8511\",\n",
    "\"/home/platelminto/Documents/uu/dev/hcml/groupassingment/Harvard-GF-Quantization/results/crosssectional_rnflt_fin_race_ablation_of_sigma/fullysup_efficientnet_rnflt_Taskcls_lr5e-5_bz6_normdata0_8030_auc0.8426\",\n",
    "\"/home/platelminto/Documents/uu/dev/hcml/groupassingment/Harvard-GF-Quantization/results/crosssectional_rnflt_fin_race_ablation_of_sigma/fullysup_efficientnet_rnflt_Taskcls_lr5e-5_bz6_normdata0_6057_auc0.8351\",\n",
    "\"/home/platelminto/Documents/uu/dev/hcml/groupassingment/Harvard-GF-Quantization/results/crosssectional_rnflt_fin_race_ablation_of_sigma/fullysup_efficientnet_rnflt_Taskcls_lr5e-5_bz6_normdata0_99_auc0.8382\",\n",
    "\"/home/platelminto/Documents/uu/dev/hcml/groupassingment/Harvard-GF-Quantization/results/crosssectional_rnflt_fin_race_ablation_of_sigma/fullysup_efficientnet_rnflt_Taskcls_lr5e-5_bz6_normdata0_5677_auc0.8419\"\n",
    "]\n",
    "\n",
    "model_paths_gender = [\n",
    "\"/home/platelminto/Documents/uu/dev/hcml/groupassingment/Harvard-GF-Quantization/results/crosssectional_rnflt_fin_gender_ablation_of_sigma/fullysup_efficientnet_rnflt_Taskcls_lr5e-5_bz6_normdata0_1023_auc0.8284\",\n",
    "\"/home/platelminto/Documents/uu/dev/hcml/groupassingment/Harvard-GF-Quantization/results/crosssectional_rnflt_fin_gender_ablation_of_sigma/fullysup_efficientnet_rnflt_Taskcls_lr5e-5_bz6_normdata0_2358_auc0.8323\",\n",
    "\"/home/platelminto/Documents/uu/dev/hcml/groupassingment/Harvard-GF-Quantization/results/crosssectional_rnflt_fin_gender_ablation_of_sigma/fullysup_efficientnet_rnflt_Taskcls_lr5e-5_bz6_normdata0_3086_auc0.8368\",\n",
    "\"/home/platelminto/Documents/uu/dev/hcml/groupassingment/Harvard-GF-Quantization/results/crosssectional_rnflt_fin_gender_ablation_of_sigma/fullysup_efficientnet_rnflt_Taskcls_lr5e-5_bz6_normdata0_3290_auc0.8479\",\n",
    "\"/home/platelminto/Documents/uu/dev/hcml/groupassingment/Harvard-GF-Quantization/results/crosssectional_rnflt_fin_gender_ablation_of_sigma/fullysup_efficientnet_rnflt_Taskcls_lr5e-5_bz6_normdata0_6044_auc0.8258\"\n",
    "]\n",
    "\n",
    "if attribute_type == \"race\":\n",
    "    model_paths = model_paths_race\n",
    "elif attribute_type == \"gender\":\n",
    "    model_paths = model_paths_gender\n",
    "else:\n",
    "    raise ValueError(\"Invalid attribute type\")\n",
    "\n",
    "actual_model_paths = []\n",
    "\n",
    "for model_path in model_paths:\n",
    "    actual_model_paths.append(model_path + \"/best_model\")\n",
    "    # actual_model_paths.append(model_path + \"/model_epoch_9\")\n",
    "\n",
    "model_paths = actual_model_paths\n",
    "model_paths.reverse()"
   ],
   "outputs": [],
   "execution_count": 71
  },
  {
   "metadata": {
    "ExecuteTime": {
     "end_time": "2024-06-25T15:47:02.532764Z",
     "start_time": "2024-06-25T15:46:58.649580Z"
    }
   },
   "cell_type": "code",
   "source": [
    "from transformers import AutoModel, AutoConfig\n",
    "from src.modules import EfficientNetWrapper\n",
    "from safetensors.torch import load_file\n",
    "\n",
    "models = []\n",
    "\n",
    "for model_path in model_paths:\n",
    "    config = AutoConfig.from_pretrained(model_path, device='cuda')\n",
    "    \n",
    "    model = EfficientNetWrapper(config)\n",
    "    \n",
    "    state_dict = load_file(model_path + \"/model.safetensors\")\n",
    "    model.load_state_dict(state_dict)\n",
    "    \n",
    "    model.eval()\n",
    "    model.to('cuda')\n",
    "    \n",
    "    models.append(model)"
   ],
   "outputs": [],
   "execution_count": 72
  },
  {
   "metadata": {
    "ExecuteTime": {
     "end_time": "2024-06-25T15:47:02.535859Z",
     "start_time": "2024-06-25T15:47:02.533449Z"
    }
   },
   "cell_type": "code",
   "source": "model.dtype",
   "outputs": [
    {
     "data": {
      "text/plain": [
       "torch.float32"
      ]
     },
     "execution_count": 73,
     "metadata": {},
     "output_type": "execute_result"
    }
   ],
   "execution_count": 73
  },
  {
   "metadata": {
    "ExecuteTime": {
     "end_time": "2024-06-25T15:47:03.824354Z",
     "start_time": "2024-06-25T15:47:02.536357Z"
    }
   },
   "cell_type": "code",
   "source": [
    "for model in models[-1:]:\n",
    "    test(model, criterion, None, validation_dataset_loader, 10, identity_Info=imb_info, _device=device)"
   ],
   "outputs": [
    {
     "name": "stdout",
     "output_type": "stream",
     "text": [
      "cuda:0\n",
      "test <==== epcoh 10 loss: 0.5455 auc: 0.8284\n",
      "0-attr auc: 0.8326\n",
      "1-attr auc: 0.8254\n"
     ]
    }
   ],
   "execution_count": 74
  },
  {
   "metadata": {
    "ExecuteTime": {
     "end_time": "2024-06-25T15:47:03.827027Z",
     "start_time": "2024-06-25T15:47:03.825322Z"
    }
   },
   "cell_type": "code",
   "source": "from optimum.quanto import quantize, qint8, qint4, qint2, QTensor",
   "outputs": [],
   "execution_count": 75
  },
  {
   "metadata": {
    "ExecuteTime": {
     "end_time": "2024-06-25T15:47:04.929856Z",
     "start_time": "2024-06-25T15:47:04.853268Z"
    }
   },
   "cell_type": "code",
   "source": [
    "for model in models:\n",
    "    quantize(model, weights=qint2)"
   ],
   "outputs": [],
   "execution_count": 76
  },
  {
   "metadata": {
    "ExecuteTime": {
     "end_time": "2024-06-25T15:47:07.741064Z",
     "start_time": "2024-06-25T15:47:06.420966Z"
    }
   },
   "cell_type": "code",
   "source": "test(models[-1], criterion, None, validation_dataset_loader, 10, identity_Info=imb_info, _device=device)",
   "outputs": [
    {
     "name": "stdout",
     "output_type": "stream",
     "text": [
      "cuda:0\n",
      "test <==== epcoh 10 loss: 197163.1719 auc: 0.5020\n",
      "0-attr auc: 0.5007\n",
      "1-attr auc: 0.5030\n"
     ]
    },
    {
     "data": {
      "text/plain": [
       "0.5355555555555556"
      ]
     },
     "execution_count": 77,
     "metadata": {},
     "output_type": "execute_result"
    }
   ],
   "execution_count": 77
  },
  {
   "metadata": {
    "ExecuteTime": {
     "end_time": "2024-06-25T15:47:07.781871Z",
     "start_time": "2024-06-25T15:47:07.741847Z"
    }
   },
   "cell_type": "code",
   "source": "print_size_of_model(model)",
   "outputs": [
    {
     "name": "stdout",
     "output_type": "stream",
     "text": [
      "Size (MB): 26.609645\n"
     ]
    }
   ],
   "execution_count": 78
  },
  {
   "metadata": {
    "ExecuteTime": {
     "end_time": "2024-06-25T15:54:16.338063Z",
     "start_time": "2024-06-25T15:47:08.392323Z"
    }
   },
   "cell_type": "code",
   "source": [
    "# QAT, don't freeze if u wanna do this.\n",
    "for model in models:\n",
    "    model.train()\n",
    "    scaler = None #torch.cuda.amp.GradScaler()\n",
    "    \n",
    "    optimizer = AdamW(model.parameters(), lr=5e-5, betas=(0.0, 0.1), weight_decay=6e-5)\n",
    "    \n",
    "    scheduler = StepLR(optimizer, step_size=30, gamma=0.1)\n",
    "    \n",
    "    trn_dataset = EyeFair(os.path.join(\"../quant_notes/data_cmpr/\", 'train'), normalise_data=False, modality_type=\"rnflt\", task=\"cls\", resolution=200, attribute_type=\"gender\", depth=1)\n",
    "    for epoch in range(4):\n",
    "        loss_batch = []\n",
    "        top1_accuracy_batch = []\n",
    "        preds = []\n",
    "        gts = []\n",
    "        attrs = []\n",
    "    \n",
    "        train_dataset_loader = torch.utils.data.DataLoader(\n",
    "            trn_dataset, batch_size=6, shuffle=True,\n",
    "            num_workers=8, pin_memory=True, drop_last=True)\n",
    "    \n",
    "        for batch_idx, (input, target, attr) in enumerate(train_dataset_loader):\n",
    "            input = input.to(device)\n",
    "            target = target.to(device)\n",
    "            attr = attr.to(device)\n",
    "            \n",
    "            optimizer.zero_grad()\n",
    "        \n",
    "            pred = model(input, attr)\n",
    "            \n",
    "            if isinstance(pred, QTensor):\n",
    "                pred = pred.dequantize()\n",
    "            \n",
    "            pred = pred.squeeze(1)\n",
    "        \n",
    "            loss = criterion(pred, target)\n",
    "            \n",
    "            pred_prob = torch.sigmoid(pred.detach())\n",
    "            preds.append(pred_prob.detach().cpu().numpy())\n",
    "            gts.append(target.detach().cpu().numpy())\n",
    "            attrs.append(attr.detach().cpu().numpy())\n",
    "        \n",
    "            loss_batch.append(loss.item())\n",
    "            \n",
    "            top1_accuracy = accuracy(pred.detach().cpu().numpy(), target.detach().cpu().numpy(), topk=(1,))\n",
    "            top1_accuracy_batch.append(top1_accuracy)\n",
    "        \n",
    "            loss.backward()\n",
    "            optimizer.step()\n",
    "        \n",
    "        preds = np.concatenate(preds, axis=0)\n",
    "        gts = np.concatenate(gts, axis=0)\n",
    "        attrs = np.concatenate(attrs, axis=0).astype(int)\n",
    "        cur_auc = auc_score(preds, gts)\n",
    "        acc = accuracy(preds, gts, topk=(1,))\n",
    "        \n",
    "        print(f\"train ====> epoch {epoch} loss: {np.mean(loss_batch):.4f} auc: {cur_auc:.4f}\")\n",
    "    model.eval()"
   ],
   "outputs": [
    {
     "name": "stdout",
     "output_type": "stream",
     "text": [
      "min: -31.9900, max: 2.2700\n",
      "train ====> epoch 0 loss: 0.6138 auc: 0.7412\n",
      "train ====> epoch 1 loss: 0.5419 auc: 0.8071\n",
      "train ====> epoch 2 loss: 0.5410 auc: 0.8133\n",
      "train ====> epoch 3 loss: 0.5236 auc: 0.8275\n",
      "min: -31.9900, max: 2.2700\n",
      "train ====> epoch 0 loss: 0.5946 auc: 0.7431\n",
      "train ====> epoch 1 loss: 0.5423 auc: 0.7965\n",
      "train ====> epoch 2 loss: 0.5190 auc: 0.8170\n",
      "train ====> epoch 3 loss: 0.4982 auc: 0.8329\n",
      "min: -31.9900, max: 2.2700\n",
      "train ====> epoch 0 loss: 0.5777 auc: 0.7579\n",
      "train ====> epoch 1 loss: 0.5335 auc: 0.8105\n",
      "train ====> epoch 2 loss: 0.5104 auc: 0.8255\n",
      "train ====> epoch 3 loss: 0.4869 auc: 0.8447\n",
      "min: -31.9900, max: 2.2700\n",
      "train ====> epoch 0 loss: 0.5750 auc: 0.7539\n",
      "train ====> epoch 1 loss: 0.5383 auc: 0.8025\n",
      "train ====> epoch 2 loss: 0.5058 auc: 0.8299\n",
      "train ====> epoch 3 loss: 0.4829 auc: 0.8456\n",
      "min: -31.9900, max: 2.2700\n",
      "train ====> epoch 0 loss: 0.5874 auc: 0.7521\n",
      "train ====> epoch 1 loss: 0.5464 auc: 0.7944\n",
      "train ====> epoch 2 loss: 0.5231 auc: 0.8170\n",
      "train ====> epoch 3 loss: 0.4948 auc: 0.8369\n"
     ]
    }
   ],
   "execution_count": 79
  },
  {
   "metadata": {
    "ExecuteTime": {
     "end_time": "2024-06-25T15:54:23.189240Z",
     "start_time": "2024-06-25T15:54:21.861639Z"
    }
   },
   "cell_type": "code",
   "source": "test(model, criterion, None, validation_dataset_loader, 10, identity_Info=imb_info, _device=device)",
   "outputs": [
    {
     "name": "stdout",
     "output_type": "stream",
     "text": [
      "cuda:0\n",
      "test <==== epcoh 10 loss: 0.7148 auc: 0.7802\n",
      "0-attr auc: 0.7818\n",
      "1-attr auc: 0.7876\n"
     ]
    },
    {
     "data": {
      "text/plain": [
       "0.6822222222222222"
      ]
     },
     "execution_count": 80,
     "metadata": {},
     "output_type": "execute_result"
    }
   ],
   "execution_count": 80
  },
  {
   "metadata": {
    "ExecuteTime": {
     "end_time": "2024-06-25T15:54:34.979320Z",
     "start_time": "2024-06-25T15:54:34.936793Z"
    }
   },
   "cell_type": "code",
   "source": "print_size_of_model(model)",
   "outputs": [
    {
     "name": "stdout",
     "output_type": "stream",
     "text": [
      "Size (MB): 26.609645\n"
     ]
    }
   ],
   "execution_count": 81
  },
  {
   "metadata": {
    "ExecuteTime": {
     "end_time": "2024-06-25T15:54:45.222921Z",
     "start_time": "2024-06-25T15:54:45.219479Z"
    }
   },
   "cell_type": "code",
   "source": "from optimum.quanto import freeze",
   "outputs": [],
   "execution_count": 82
  },
  {
   "metadata": {
    "ExecuteTime": {
     "end_time": "2024-06-25T15:54:45.640438Z",
     "start_time": "2024-06-25T15:54:45.613561Z"
    }
   },
   "cell_type": "code",
   "source": "freeze(model)",
   "outputs": [],
   "execution_count": 83
  },
  {
   "metadata": {
    "ExecuteTime": {
     "end_time": "2024-06-25T15:54:46.340798Z",
     "start_time": "2024-06-25T15:54:46.308142Z"
    }
   },
   "cell_type": "code",
   "source": "print_size_of_model(model)",
   "outputs": [
    {
     "name": "stdout",
     "output_type": "stream",
     "text": [
      "Size (MB): 3.057125\n"
     ]
    }
   ],
   "execution_count": 84
  },
  {
   "metadata": {
    "ExecuteTime": {
     "end_time": "2024-06-25T15:54:48.403281Z",
     "start_time": "2024-06-25T15:54:48.283725Z"
    }
   },
   "cell_type": "code",
   "source": [
    "import torch\n",
    "import os\n",
    "import numpy as np\n",
    "from src.modules import forward_model_with_fin\n",
    "from src.data_handler import EyeFair\n",
    "\n",
    "device = torch.device('cuda:0' if torch.cuda.is_available() else 'cpu')\n",
    "\n",
    "def final_metrics(model, validation_dataset_loader, attribute_type, number_of_classes):\n",
    "    # model.eval()\n",
    "    \n",
    "    preds = []\n",
    "    gts = []\n",
    "    attrs = []\n",
    "\n",
    "    with torch.no_grad():\n",
    "        for i, (input, target, attr) in enumerate(validation_dataset_loader):\n",
    "            input = input.to(device)\n",
    "            target = target.to(device)\n",
    "            attr = attr.to(device)\n",
    "            \n",
    "            pred = forward_model_with_fin(model, input, attr)\n",
    "            pred = pred.squeeze(1)\n",
    "\n",
    "            pred_prob = torch.sigmoid(pred.detach())\n",
    "            preds.append(pred_prob.detach().cpu().numpy())\n",
    "            gts.append(target.detach().cpu().numpy())\n",
    "            attrs.append(attr.detach().cpu().numpy())\n",
    "\n",
    "    preds = np.concatenate(preds, axis=0)\n",
    "    gts = np.concatenate(gts, axis=0)\n",
    "    attrs = np.concatenate(attrs, axis=0).astype(int)\n",
    "    \n",
    "    acc = accuracy(preds, gts, topk=(1,))\n",
    "    auc = auc_score(preds, gts)\n",
    "    es_acc = equity_scaled_accuracy(preds, gts, attrs)\n",
    "    es_auc = equity_scaled_AUC(preds, gts, attrs)\n",
    "\n",
    "    pred_labels = (preds >= 0.5).astype(float)\n",
    "    dpd = demographic_parity_difference(gts, pred_labels, sensitive_features=attrs)\n",
    "    eod = equalized_odds_difference(gts, pred_labels, sensitive_features=attrs)\n",
    "\n",
    "    auc_groups = []\n",
    "    for attr_value in range(number_of_classes):\n",
    "        mask = attrs == attr_value\n",
    "        auc_groups.append(auc_score(preds[mask], gts[mask]))\n",
    "\n",
    "    if attribute_type == \"race\":\n",
    "        return es_acc, acc, es_auc, auc, auc_groups[0], auc_groups[1], auc_groups[2], dpd, eod\n",
    "    elif attribute_type == \"gender\":\n",
    "        return es_acc, acc, es_auc, auc, auc_groups[0], auc_groups[1], 0, dpd, eod\n",
    "\n",
    "\n",
    "in_dim = 1\n",
    "out_dim = 1\n",
    "extra_info = {\n",
    "    'in_feat_to_final': 1280,\n",
    "    'normalization_type': 'fin',\n",
    "    'ag_norm_params': {\"num_attr\": 3, \"dim\": 1280, \"mu\": 0.01, \"sigma\": 1., \"momentum\": 0.3}\n",
    "}"
   ],
   "outputs": [],
   "execution_count": 85
  },
  {
   "metadata": {
    "ExecuteTime": {
     "end_time": "2024-06-25T15:54:48.973031Z",
     "start_time": "2024-06-25T15:54:48.859133Z"
    }
   },
   "cell_type": "code",
   "source": [
    "# Prepare the validation dataset and loader\n",
    "validation_dataset = EyeFair('../quant_notes/data_cmpr/test', normalise_data=False, modality_type='rnflt', task='cls', resolution=200, attribute_type=attribute_type)\n",
    "validation_dataset_loader = torch.utils.data.DataLoader(validation_dataset, batch_size=256, shuffle=False, num_workers=8, pin_memory=True)"
   ],
   "outputs": [
    {
     "name": "stdout",
     "output_type": "stream",
     "text": [
      "min: -31.1600, max: 2.5300\n"
     ]
    }
   ],
   "execution_count": 86
  },
  {
   "metadata": {
    "ExecuteTime": {
     "end_time": "2024-06-25T15:54:55.891060Z",
     "start_time": "2024-06-25T15:54:49.549439Z"
    }
   },
   "cell_type": "code",
   "source": [
    "for model in models:\n",
    "    # Perform validation and get metrics\n",
    "    metrics = final_metrics(model, validation_dataset_loader, attribute_type, number_of_classes=3 if attribute_type == \"race\" else 2)\n",
    "    \n",
    "    # Print the metrics\n",
    "    print(\"\\t\".join(f\"{metric:.4f}\" for metric in metrics))"
   ],
   "outputs": [
    {
     "name": "stdout",
     "output_type": "stream",
     "text": [
      "0.5905\t0.6000\t0.6554\t0.6707\t0.6663\t0.6897\t0.0000\t0.0898\t0.1204\n",
      "0.6632\t0.6678\t0.7841\t0.7885\t0.7857\t0.7913\t0.0000\t0.0290\t0.0282\n",
      "0.7523\t0.7633\t0.8290\t0.8363\t0.8412\t0.8325\t0.0000\t0.0138\t0.0235\n",
      "0.7255\t0.7378\t0.7697\t0.7953\t0.7816\t0.8148\t0.0000\t0.0750\t0.0818\n",
      "0.6661\t0.6822\t0.7732\t0.7802\t0.7818\t0.7876\t0.0000\t0.1005\t0.1373\n"
     ]
    }
   ],
   "execution_count": 87
  },
  {
   "metadata": {
    "ExecuteTime": {
     "end_time": "2024-06-25T01:31:40.773197Z",
     "start_time": "2024-06-25T01:31:40.769529Z"
    }
   },
   "cell_type": "code",
   "source": [
    "for model_name in model_paths:\n",
    "    print(model_name)"
   ],
   "outputs": [
    {
     "name": "stdout",
     "output_type": "stream",
     "text": [
      "/home/platelminto/Documents/uu/dev/hcml/groupassingment/Harvard-GF-Quantization/results/crosssectional_rnflt_fin_gender_ablation_of_sigma/fullysup_efficientnet_rnflt_Taskcls_lr5e-5_bz6_normdata0_6044_auc0.8258/model_epoch_9\n",
      "/home/platelminto/Documents/uu/dev/hcml/groupassingment/Harvard-GF-Quantization/results/crosssectional_rnflt_fin_gender_ablation_of_sigma/fullysup_efficientnet_rnflt_Taskcls_lr5e-5_bz6_normdata0_6044_auc0.8258/best_model\n",
      "/home/platelminto/Documents/uu/dev/hcml/groupassingment/Harvard-GF-Quantization/results/crosssectional_rnflt_fin_gender_ablation_of_sigma/fullysup_efficientnet_rnflt_Taskcls_lr5e-5_bz6_normdata0_3290_auc0.8479/model_epoch_9\n",
      "/home/platelminto/Documents/uu/dev/hcml/groupassingment/Harvard-GF-Quantization/results/crosssectional_rnflt_fin_gender_ablation_of_sigma/fullysup_efficientnet_rnflt_Taskcls_lr5e-5_bz6_normdata0_3290_auc0.8479/best_model\n",
      "/home/platelminto/Documents/uu/dev/hcml/groupassingment/Harvard-GF-Quantization/results/crosssectional_rnflt_fin_gender_ablation_of_sigma/fullysup_efficientnet_rnflt_Taskcls_lr5e-5_bz6_normdata0_3086_auc0.8368/model_epoch_9\n",
      "/home/platelminto/Documents/uu/dev/hcml/groupassingment/Harvard-GF-Quantization/results/crosssectional_rnflt_fin_gender_ablation_of_sigma/fullysup_efficientnet_rnflt_Taskcls_lr5e-5_bz6_normdata0_3086_auc0.8368/best_model\n",
      "/home/platelminto/Documents/uu/dev/hcml/groupassingment/Harvard-GF-Quantization/results/crosssectional_rnflt_fin_gender_ablation_of_sigma/fullysup_efficientnet_rnflt_Taskcls_lr5e-5_bz6_normdata0_2358_auc0.8323/model_epoch_9\n",
      "/home/platelminto/Documents/uu/dev/hcml/groupassingment/Harvard-GF-Quantization/results/crosssectional_rnflt_fin_gender_ablation_of_sigma/fullysup_efficientnet_rnflt_Taskcls_lr5e-5_bz6_normdata0_2358_auc0.8323/best_model\n",
      "/home/platelminto/Documents/uu/dev/hcml/groupassingment/Harvard-GF-Quantization/results/crosssectional_rnflt_fin_gender_ablation_of_sigma/fullysup_efficientnet_rnflt_Taskcls_lr5e-5_bz6_normdata0_1023_auc0.8284/model_epoch_9\n",
      "/home/platelminto/Documents/uu/dev/hcml/groupassingment/Harvard-GF-Quantization/results/crosssectional_rnflt_fin_gender_ablation_of_sigma/fullysup_efficientnet_rnflt_Taskcls_lr5e-5_bz6_normdata0_1023_auc0.8284/best_model\n"
     ]
    }
   ],
   "execution_count": 109
  },
  {
   "metadata": {
    "ExecuteTime": {
     "end_time": "2024-06-23T22:34:10.783043Z",
     "start_time": "2024-06-23T22:34:10.780853Z"
    }
   },
   "cell_type": "code",
   "source": [
    "print(torch.cuda.is_available())\n",
    "print(torch.cuda.get_device_name(0))\n",
    "print(\"Torch version:\", torch.__version__)\n",
    "print(\"Transformers version:\", transformers.__version__)\n"
   ],
   "outputs": [
    {
     "name": "stdout",
     "output_type": "stream",
     "text": [
      "True\n",
      "NVIDIA GeForce RTX 4060 Ti\n",
      "Torch version: 2.3.1\n",
      "Transformers version: 4.42.0.dev0\n"
     ]
    }
   ],
   "execution_count": 3
  },
  {
   "metadata": {
    "ExecuteTime": {
     "end_time": "2024-06-23T22:28:27.951507Z",
     "start_time": "2024-06-23T22:28:26.956095Z"
    }
   },
   "cell_type": "code",
   "source": "!pip show bitsandbytes",
   "outputs": [
    {
     "name": "stdout",
     "output_type": "stream",
     "text": [
      "Name: bitsandbytes\r\n",
      "Version: 0.43.1\r\n",
      "Summary: k-bit optimizers and matrix multiplication routines.\r\n",
      "Home-page: https://github.com/TimDettmers/bitsandbytes\r\n",
      "Author: Tim Dettmers\r\n",
      "Author-email: dettmers@cs.washington.edu\r\n",
      "License: MIT\r\n",
      "Location: /home/platelminto/miniconda3/envs/harvard_gf/lib/python3.10/site-packages\r\n",
      "Requires: numpy, torch\r\n",
      "Required-by: \r\n"
     ]
    }
   ],
   "execution_count": 16
  }
 ],
 "metadata": {
  "kernelspec": {
   "display_name": "harvard_gf",
   "language": "python",
   "name": "python3"
  },
  "language_info": {
   "codemirror_mode": {
    "name": "ipython",
    "version": 3
   },
   "file_extension": ".py",
   "mimetype": "text/x-python",
   "name": "python",
   "nbconvert_exporter": "python",
   "pygments_lexer": "ipython3",
   "version": "3.1.undefined"
  }
 },
 "nbformat": 4,
 "nbformat_minor": 2
}
